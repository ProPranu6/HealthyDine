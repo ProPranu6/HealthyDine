{
 "cells": [
  {
   "cell_type": "markdown",
   "id": "dc1485db",
   "metadata": {},
   "source": [
    "### Algorithm As A Sequence\n",
    "* Takes in the user creds, which comes in as an user object, it then segregates the user into regular or premium.\n",
    "* For Regular Users :\n",
    "    * It Takes the rating of restaurants and displays them in the descending order of rating\n",
    "    * It gets this rating by performing a sentiment analysis of the reviews given by the users\n",
    "* For Premium Users : \n",
    "    * It takes in the BMI of the users, "
   ]
  },
  {
   "cell_type": "code",
   "execution_count": 35,
   "id": "da6efb35",
   "metadata": {},
   "outputs": [
    {
     "data": {
      "text/plain": [
       "[<matplotlib.lines.Line2D at 0x1e032b867f0>]"
      ]
     },
     "execution_count": 35,
     "metadata": {},
     "output_type": "execute_result"
    },
    {
     "data": {
      "image/png": "[encoded data removed]",
      "text/plain": [
       "<Figure size 432x288 with 1 Axes>"
      ]
     },
     "metadata": {
      "needs_background": "light"
     },
     "output_type": "display_data"
    }
   ],
   "source": [
    "\n",
    "def getIdealWeight(height):\n",
    "    return 22*height**2\n",
    "def getRevisedCaloriesPerDay(weight_gap, diet_days=10, per_day_cal=2500):\n",
    "    return 2500 - weight_gap*7700/diet_days\n",
    "    \n",
    "\n",
    "import matplotlib.pyplot as plt\n",
    "weight = [w for w in range(30, 80)]\n",
    "height = [h/100 for h in range(150, 170)]\n",
    "BMIs = [(22-w/height[10]**2)**2 for w in weight]\n",
    "plt.plot(weight, BMIs)\n",
    "\n"
   ]
  },
  {
   "cell_type": "code",
   "execution_count": 16,
   "id": "58114b05",
   "metadata": {},
   "outputs": [
    {
     "data": {
      "text/plain": [
       "56.32000000000001"
      ]
     },
     "execution_count": 16,
     "metadata": {},
     "output_type": "execute_result"
    }
   ],
   "source": [
    "getIdealWeight(1.6)"
   ]
  },
  {
   "cell_type": "code",
   "execution_count": 34,
   "id": "0dbc7ec9",
   "metadata": {},
   "outputs": [
    {
     "data": {
      "text/plain": [
       "'31 days to diet'"
      ]
     },
     "execution_count": 34,
     "metadata": {},
     "output_type": "execute_result"
    }
   ],
   "source": [
    "from math import ceil\n",
    "weight_gap = 10\n",
    "x = ceil((weight_gap)*7700/2500)\n",
    "f\"{x} days to diet\""
   ]
  },
  {
   "cell_type": "code",
   "execution_count": null,
   "id": "f3bc3493",
   "metadata": {},
   "outputs": [],
   "source": [
    "getRevisedCaloriesPerDay(20, diet_days=10, per_cal_"
   ]
  },
  {
   "cell_type": "code",
   "execution_count": 3,
   "id": "89fde54c",
   "metadata": {},
   "outputs": [
    {
     "data": {
      "text/plain": [
       "'hello'"
      ]
     },
     "execution_count": 3,
     "metadata": {},
     "output_type": "execute_result"
    }
   ],
   "source": [
    "\"hello\""
   ]
  },
  {
   "cell_type": "code",
   "execution_count": null,
   "id": "b748414b",
   "metadata": {},
   "outputs": [],
   "source": [
    "present_weight - desired_weight = (x)*10/7700  "
   ]
  }
 ],
 "metadata": {
  "kernelspec": {
   "display_name": "Python 3",
   "language": "python",
   "name": "python3"
  },
  "language_info": {
   "codemirror_mode": {
    "name": "ipython",
    "version": 3
   },
   "file_extension": ".py",
   "mimetype": "text/x-python",
   "name": "python",
   "nbconvert_exporter": "python",
   "pygments_lexer": "ipython3",
   "version": "3.8.8"
  }
 },
 "nbformat": 4,
 "nbformat_minor": 5
}
