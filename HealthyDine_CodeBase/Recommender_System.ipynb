{
 "cells": [
  {
   "cell_type": "markdown",
   "id": "7f6d139d",
   "metadata": {},
   "source": [
    "### Algorithm As A Sequence\n",
    "* Takes in the user creds, which comes in as an user object, it then segregates the user into regular or premium.\n",
    "* For Regular Users :\n",
    "    * It Takes the rating of restaurants and displays them in the descending order of rating\n",
    "    * It gets this rating by performing a sentiment analysis of the reviews given by the users\n",
    "* For Premium Users : \n",
    "    * It takes in the BMI of the users, calculates the ideal weight and the weight gap and from that calculates the per day calories that should be taken to reach desired weight over a span of D days\n",
    "    * Now it splits the calories proportionately for carbohydrates proteins and fats and suggests user interested foods accordingly"
   ]
  },
  {
   "cell_type": "code",
   "execution_count": 49,
   "id": "c6e7e09d",
   "metadata": {},
   "outputs": [],
   "source": [
    "class MacroNutrientsShareCalculator:\n",
    "    def __init__(self, height, weight, calories_intake, strict_diet=True):\n",
    "        self.height = height\n",
    "        self.weight = weight\n",
    "        self.calories_intake=calories_intake\n",
    "        self.strict_diet=strict_diet\n",
    "        self.Ddays = 0\n",
    "        \n",
    "    def __getIdealWeight(self):\n",
    "        return 22*self.height**2\n",
    "    \n",
    "    def __getRevisedCaloriesPerDay(self, weight_gap, per_day_cal=2500, strict=True):  #Per day calories intake calculated from the user data during data gathering period\n",
    "        max_revised_cals = per_day_cal - 500       #A minimum of 500 calories per day has to be burnt\n",
    "        if strict:\n",
    "            diet_days = 1\n",
    "            rc = per_day_cal - weight_gap*7700/diet_days\n",
    "            while rc<500:                         #Minimum of 500 calories per day has to be consumed\n",
    "                diet_days += 1\n",
    "                rc = per_day_cal - weight_gap*7700/diet_days \n",
    "            return diet_days, rc\n",
    "        else:\n",
    "            return 7700*weight_gap/500, max_revised_cals \n",
    "\n",
    "\n",
    "    def __getCaloriesSplit(self, total_calories):\n",
    "        carbs_split = 0.45\n",
    "        proteins_split = 0.35\n",
    "        fats_split = 0.2\n",
    "        return {'carbs' : carbs_split*total_calories, 'proteins':proteins_split*total_calories, 'fats':fats_split*total_calories}\n",
    "    def __call__(self):\n",
    "        wi = self.__getIdealWeight()\n",
    "        D, rc = self.__getRevisedCaloriesPerDay(self.weight-wi,self.calories_intake,self.strict_diet)\n",
    "        self.Ddays = D\n",
    "        return self.__getCaloriesSplit(rc)\n",
    "\n",
    "\n"
   ]
  },
  {
   "cell_type": "code",
   "execution_count": 50,
   "id": "43aeab63",
   "metadata": {},
   "outputs": [
    {
     "data": {
      "text/plain": [
       "({'carbs': 233.41348314606776,\n",
       "  'proteins': 181.54382022471935,\n",
       "  'fats': 103.73932584269679},\n",
       " 89)"
      ]
     },
     "execution_count": 50,
     "metadata": {},
     "output_type": "execute_result"
    }
   ],
   "source": [
    "share_calc = MacroNutrientsShareCalculator(1.6, 85, 3000, strict_diet=True)\n",
    "share_calc(), share_calc.Ddays"
   ]
  }
 ],
 "metadata": {
  "kernelspec": {
   "display_name": "Python 3",
   "language": "python",
   "name": "python3"
  },
  "language_info": {
   "codemirror_mode": {
    "name": "ipython",
    "version": 3
   },
   "file_extension": ".py",
   "mimetype": "text/x-python",
   "name": "python",
   "nbconvert_exporter": "python",
   "pygments_lexer": "ipython3",
   "version": "3.8.8"
  }
 },
 "nbformat": 4,
 "nbformat_minor": 5
}
